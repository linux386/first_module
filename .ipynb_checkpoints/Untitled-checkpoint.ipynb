{
 "cells": [
  {
   "cell_type": "code",
   "execution_count": null,
   "metadata": {},
   "outputs": [],
   "source": [
    "first_price_df"
   ]
  },
  {
   "cell_type": "code",
   "execution_count": null,
   "metadata": {},
   "outputs": [],
   "source": [
    "first_df"
   ]
  },
  {
   "cell_type": "code",
   "execution_count": null,
   "metadata": {},
   "outputs": [],
   "source": [
    "    ma_df = pd.merge(first_price_df[['close','name']],ma120_df,on='name')\n",
    "    ma120_df = pd.merge(last_price_df[['close','volume','name']],ma_df,on='name')\n",
    "    ma120_df.columns= ['price_y', 'name', 'price_x', 'close_x', 'ma60_x', 'ma120_x','volume_x', 'date_x', 'close_y', 'ma60_y', 'ma120_y', 'volume_y', 'date_y']\n",
    "    ma120_df = ma120_df[['name','close_x','close_y','ma60_x','ma60_y','ma120_x','ma120_y','price_x','price_y','volume_y','date_x']]\n",
    "    ma120_df['price_diff']=ma120_df['price_y']/ma120_df['price_x']\n",
    "    ma120_df =  ma120_df.sort_values([\"price_diff\"],ascending=False)\n",
    "    second_df =  first_df.sort_values([\"ma120\"],ascending=False)"
   ]
  },
  {
   "cell_type": "code",
   "execution_count": null,
   "metadata": {},
   "outputs": [],
   "source": [
    "price_df=pd.DataFrame()\n",
    "price_df['name'] = first_price_df['name'].str.lower()\n",
    "first_price_df['name1']=price_df['name']\n",
    "price_df"
   ]
  },
  {
   "cell_type": "code",
   "execution_count": null,
   "metadata": {},
   "outputs": [],
   "source": [
    "first_price_df['name1']=price_df['name']\n",
    "first_price_df"
   ]
  },
  {
   "cell_type": "code",
   "execution_count": null,
   "metadata": {},
   "outputs": [],
   "source": [
    "##  전종목 검색하여  종가 > ma120  일일 비교  하여  관심 종목 추출_4  한달단위로  close_ma120, total 동시 추출\n",
    "\n",
    "from mod1 import *\n",
    "import warnings\n",
    "warnings.filterwarnings(\"ignore\", category=RuntimeWarning) \n",
    "\n",
    "path = 'd:\\\\stockdata\\\\close_ma120\\\\close_ma120_'\n",
    "path_total = 'd:\\\\stockdata\\\\close_ma120\\\\total_'\n",
    "\n",
    "df = all_stock('2019-10-10')\n",
    "df = df['Name']\n",
    "name = df.to_list()\n",
    "\n",
    "pure_df = pd.DataFrame()\n",
    "df2 = pd.DataFrame()\n",
    "\n",
    "for i in name:\n",
    "    #print(i)\n",
    "    df=select_stock(i,'2008-01-01')\n",
    "    pure_df = pure_df.append(df)\n",
    "    ma(df)\n",
    "\n",
    "    source = MinMaxScaler()\n",
    "    data = source.fit_transform(df[['close','ma60','ma120','volume']].values)\n",
    "    df1 = pd.DataFrame(data)\n",
    "    df1['name']=i\n",
    "    df1.columns=['close','ma60','ma120','volume','name']\n",
    "    df1['date'] = df['date']\n",
    "    #print(df1)\n",
    "    df2 = df2.append(df1)\n",
    "\n",
    "pure_df.columns = map(str.lower, pure_df.columns) ## \n",
    "\n",
    "select_query = \"select * from market where Name='hrs' and Date >= '2019-10-01' \"\n",
    "df3 = pd.read_sql(select_query, engine)\n",
    "\n",
    "df3 = df3['Date']\n",
    "datelist = df3.to_list()\n",
    "\n",
    "last_df = df2.loc[df2['date'] == datelist[-1]]\n",
    "last_df = last_df[last_df['ma120'] < 0.1]\n",
    "last_price_df = pure_df.loc[pure_df['date'] == datelist[-1]]\n",
    "\n",
    "for i in datelist:\n",
    "    first_df = df2.loc[df2['date'] == i]\n",
    "    first_price_df = pure_df.loc[pure_df['date'] == i]\n",
    "    ma120_df = pd.merge(first_df,last_df,on='name')\n",
    "    ma_df = pd.merge(first_price_df[['close','name']],ma120_df,on='name')\n",
    "    ma120_df = pd.merge(last_price_df[['close','volume','name']],ma_df,on='name')\n",
    "    ma120_df.columns= ['price_y','volume_z', 'name', 'price_x', 'close_x', 'ma60_x', 'ma120_x','volume_x', 'date_x', 'close_y', 'ma60_y', 'ma120_y', 'volume_y', 'date_y']\n",
    "    ma120_df = ma120_df[['name','close_x','close_y','ma60_x','ma60_y','ma120_x','ma120_y','price_x','price_y','volume_z','date_x']]\n",
    "    ma120_df['price_diff']=ma120_df['price_y']/ma120_df['price_x']\n",
    "    ma120_df =  ma120_df.sort_values([\"price_diff\"],ascending=False)\n",
    "    second_df =  first_df.sort_values([\"ma120\"],ascending=False)\n",
    "    #ma120_df['price_x']=first_price_df['close'].values\n",
    "    #ma120_df['price_y']=last_price_df['close'].values\n",
    "    strdate = i.strftime('%Y-%m-%d')\n",
    "    second_df.to_excel(path+strdate+'.xlsx')\n",
    "    ma120_df.to_excel(path_total+strdate+'.xlsx')"
   ]
  },
  {
   "cell_type": "code",
   "execution_count": null,
   "metadata": {
    "scrolled": false
   },
   "outputs": [],
   "source": [
    "from mod1 import *\n",
    "import warnings\n",
    "warnings.filterwarnings(\"ignore\", category=RuntimeWarning) \n",
    "\n",
    "def close_ma(df,select1,select2,select3):\n",
    "    ma(df)\n",
    "\n",
    "    source = MinMaxScaler()\n",
    "    data = source.fit_transform(df[['close',select1,select2,select3]].values)\n",
    "    df1 = pd.DataFrame(data)\n",
    "    df1.columns=['close',select1,select2,select3]\n",
    "    df1 = df1.set_index(df['date'])\n",
    "    df1.plot(figsize=(16,4))\n",
    "    plt.title(df['name'][0])\n",
    "    plt.show()\n",
    "\n",
    "path = 'd:\\\\stockdata\\\\close_ma120\\\\close_ma120_'\n",
    "path_total = 'd:\\\\stockdata\\\\close_ma120\\\\total_'\n",
    "\n",
    "choice_date = '2019-10-01'\n",
    "df = pd.read_excel(path_total+choice_date+'.xlsx')\n",
    "df = df['name']\n",
    "name = df.to_list()\n",
    "\n",
    "pure_df = pd.DataFrame()\n",
    "df2 = pd.DataFrame()\n",
    "cci_df = pd.DataFrame()\n",
    "for i in name:\n",
    "    #print(i)\n",
    "    df=select_stock(i,'2010-01-01')\n",
    "    cci_df[['open','high','low','volume','close']] = df[['Open','High','Low','Volume','Close']].astype(float) #  TA-Lib로 평균을 구하려면 실수로 만들어야 함\n",
    "    period = 60\n",
    "    cci_df['cci'] = ta.CCI(cci_df, timeperiod=period)\n",
    "    df['cci'] = cci_df['cci']\n",
    "    close_ma(df,'cci','ma60','ma120')"
   ]
  },
  {
   "cell_type": "code",
   "execution_count": null,
   "metadata": {},
   "outputs": [],
   "source": [
    "name"
   ]
  },
  {
   "cell_type": "code",
   "execution_count": null,
   "metadata": {
    "scrolled": false
   },
   "outputs": [],
   "source": [
    "from mod1 import *\n",
    "import warnings\n",
    "warnings.filterwarnings(\"ignore\", category=RuntimeWarning) \n",
    "\n",
    "def close_ma(df,select1,select2,select3):\n",
    "    ma(df)\n",
    "\n",
    "    source = MinMaxScaler()\n",
    "    data = source.fit_transform(df[['close',select1,select2,select3]].values)\n",
    "    df1 = pd.DataFrame(data)\n",
    "    df1.columns=['close',select1,select2,select3]\n",
    "    df1 = df1.set_index(df['date'])\n",
    "    df1.plot(figsize=(16,4))\n",
    "    plt.title(df['name'][0])\n",
    "    plt.show()\n",
    "\n",
    "path = 'd:\\\\stockdata\\\\close_ma120\\\\close_ma120_'\n",
    "path_total = 'd:\\\\stockdata\\\\close_ma120\\\\total_'\n",
    "\n",
    "choice_date = '2019-11-01'\n",
    "df = pd.read_excel(path_total+choice_date+'.xlsx')\n",
    "df = df['name']\n",
    "name = df.to_list()\n",
    "\n",
    "#name=['금호전기','웅진씽크빅']\n",
    "\n",
    "pure_df = pd.DataFrame()\n",
    "df2 = pd.DataFrame()\n",
    "cci_df = pd.DataFrame()\n",
    "for i in name:\n",
    "    #print(i)\n",
    "    df=select_stock(i,'2010-01-01')\n",
    "    cci_df[['open','high','low','volume','close']] = df[['Open','High','Low','Volume','Close']].astype(float) #  TA-Lib로 평균을 구하려면 실수로 만들어야 함\n",
    "    period = 60\n",
    "    cci_df['cci'] = ta.CCI(cci_df, timeperiod=period)\n",
    "    df['cci'] = cci_df['cci']\n",
    "    close_ma(df,'cci','ma60','ma120')"
   ]
  },
  {
   "cell_type": "code",
   "execution_count": null,
   "metadata": {},
   "outputs": [],
   "source": [
    "from mod1 import *\n",
    "import warnings\n",
    "warnings.filterwarnings(\"ignore\", category=RuntimeWarning) \n",
    "\n",
    "path = 'd:\\\\stockdata\\\\close_ma120\\\\close_ma120_'\n",
    "path_total = 'd:\\\\stockdata\\\\close_ma120\\\\total_'\n",
    "\n",
    "df = all_stock('2019-10-10')\n",
    "df = df['Name']\n",
    "df=df.loc[::-1]\n",
    "df"
   ]
  },
  {
   "cell_type": "code",
   "execution_count": null,
   "metadata": {},
   "outputs": [],
   "source": []
  },
  {
   "cell_type": "code",
   "execution_count": null,
   "metadata": {},
   "outputs": [],
   "source": []
  }
 ],
 "metadata": {
  "kernelspec": {
   "display_name": "Python 3",
   "language": "python",
   "name": "python3"
  },
  "language_info": {
   "codemirror_mode": {
    "name": "ipython",
    "version": 3
   },
   "file_extension": ".py",
   "mimetype": "text/x-python",
   "name": "python",
   "nbconvert_exporter": "python",
   "pygments_lexer": "ipython3",
   "version": "3.7.3"
  }
 },
 "nbformat": 4,
 "nbformat_minor": 2
}
