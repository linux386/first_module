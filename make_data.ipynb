{
 "cells": [
  {
   "cell_type": "code",
   "execution_count": 5,
   "metadata": {},
   "outputs": [],
   "source": [
    "import mod1"
   ]
  },
  {
   "cell_type": "code",
   "execution_count": 5,
   "metadata": {},
   "outputs": [],
   "source": [
    "a = mod1.to_excel()"
   ]
  },
  {
   "cell_type": "code",
   "execution_count": 3,
   "metadata": {},
   "outputs": [
    {
     "name": "stdout",
     "output_type": "stream",
     "text": [
      "363\n"
     ]
    },
    {
     "data": {
      "text/html": [
       "<div>\n",
       "<style scoped>\n",
       "    .dataframe tbody tr th:only-of-type {\n",
       "        vertical-align: middle;\n",
       "    }\n",
       "\n",
       "    .dataframe tbody tr th {\n",
       "        vertical-align: top;\n",
       "    }\n",
       "\n",
       "    .dataframe thead th {\n",
       "        text-align: right;\n",
       "    }\n",
       "</style>\n",
       "<table border=\"1\" class=\"dataframe\">\n",
       "  <thead>\n",
       "    <tr style=\"text-align: right;\">\n",
       "      <th></th>\n",
       "      <th>차익</th>\n",
       "      <th>비차익</th>\n",
       "      <th>전체</th>\n",
       "    </tr>\n",
       "  </thead>\n",
       "  <tbody>\n",
       "    <tr>\n",
       "      <th>19-08-23</th>\n",
       "      <td>-149</td>\n",
       "      <td>215</td>\n",
       "      <td>66</td>\n",
       "    </tr>\n",
       "  </tbody>\n",
       "</table>\n",
       "</div>"
      ],
      "text/plain": [
       "            차익  비차익  전체\n",
       "19-08-23  -149  215  66"
      ]
     },
     "execution_count": 3,
     "metadata": {},
     "output_type": "execute_result"
    }
   ],
   "source": [
    "a.get_program_trend_date(type=2)"
   ]
  },
  {
   "cell_type": "code",
   "execution_count": 4,
   "metadata": {},
   "outputs": [
    {
     "name": "stdout",
     "output_type": "stream",
     "text": [
      "363\n"
     ]
    },
    {
     "data": {
      "text/html": [
       "<div>\n",
       "<style scoped>\n",
       "    .dataframe tbody tr th:only-of-type {\n",
       "        vertical-align: middle;\n",
       "    }\n",
       "\n",
       "    .dataframe tbody tr th {\n",
       "        vertical-align: top;\n",
       "    }\n",
       "\n",
       "    .dataframe thead th {\n",
       "        text-align: right;\n",
       "    }\n",
       "</style>\n",
       "<table border=\"1\" class=\"dataframe\">\n",
       "  <thead>\n",
       "    <tr style=\"text-align: right;\">\n",
       "      <th></th>\n",
       "      <th>개인</th>\n",
       "      <th>외국인</th>\n",
       "      <th>기관</th>\n",
       "    </tr>\n",
       "  </thead>\n",
       "  <tbody>\n",
       "    <tr>\n",
       "      <th>19-08-23</th>\n",
       "      <td>-912</td>\n",
       "      <td>75</td>\n",
       "      <td>664</td>\n",
       "    </tr>\n",
       "  </tbody>\n",
       "</table>\n",
       "</div>"
      ],
      "text/plain": [
       "            개인 외국인   기관\n",
       "19-08-23  -912  75  664"
      ]
     },
     "execution_count": 4,
     "metadata": {},
     "output_type": "execute_result"
    }
   ],
   "source": [
    "a.get_investor_trend_date(type=2)"
   ]
  },
  {
   "cell_type": "code",
   "execution_count": 5,
   "metadata": {},
   "outputs": [
    {
     "name": "stdout",
     "output_type": "stream",
     "text": [
      "563\n"
     ]
    },
    {
     "data": {
      "text/html": [
       "<div>\n",
       "<style scoped>\n",
       "    .dataframe tbody tr th:only-of-type {\n",
       "        vertical-align: middle;\n",
       "    }\n",
       "\n",
       "    .dataframe tbody tr th {\n",
       "        vertical-align: top;\n",
       "    }\n",
       "\n",
       "    .dataframe thead th {\n",
       "        text-align: right;\n",
       "    }\n",
       "</style>\n",
       "<table border=\"1\" class=\"dataframe\">\n",
       "  <thead>\n",
       "    <tr style=\"text-align: right;\">\n",
       "      <th></th>\n",
       "      <th>KPI200</th>\n",
       "      <th>거래량</th>\n",
       "    </tr>\n",
       "  </thead>\n",
       "  <tbody>\n",
       "    <tr>\n",
       "      <th>2019-08-23</th>\n",
       "      <td>256.11</td>\n",
       "      <td>54778</td>\n",
       "    </tr>\n",
       "  </tbody>\n",
       "</table>\n",
       "</div>"
      ],
      "text/plain": [
       "            KPI200    거래량\n",
       "2019-08-23  256.11  54778"
      ]
     },
     "execution_count": 5,
     "metadata": {},
     "output_type": "execute_result"
    }
   ],
   "source": [
    "a.get_kpi200_date(type=2)"
   ]
  },
  {
   "cell_type": "code",
   "execution_count": 6,
   "metadata": {},
   "outputs": [
    {
     "data": {
      "text/html": [
       "<div>\n",
       "<style scoped>\n",
       "    .dataframe tbody tr th:only-of-type {\n",
       "        vertical-align: middle;\n",
       "    }\n",
       "\n",
       "    .dataframe tbody tr th {\n",
       "        vertical-align: top;\n",
       "    }\n",
       "\n",
       "    .dataframe thead th {\n",
       "        text-align: right;\n",
       "    }\n",
       "</style>\n",
       "<table border=\"1\" class=\"dataframe\">\n",
       "  <thead>\n",
       "    <tr style=\"text-align: right;\">\n",
       "      <th></th>\n",
       "      <th>고객예탁금</th>\n",
       "      <th>신용잔고</th>\n",
       "      <th>주식형펀드</th>\n",
       "      <th>혼합형펀드</th>\n",
       "      <th>채권형펀드</th>\n",
       "    </tr>\n",
       "  </thead>\n",
       "  <tbody>\n",
       "    <tr>\n",
       "      <th>19-08-21</th>\n",
       "      <td>241387</td>\n",
       "      <td>82603</td>\n",
       "      <td>788020</td>\n",
       "      <td>264822</td>\n",
       "      <td>1229515</td>\n",
       "    </tr>\n",
       "  </tbody>\n",
       "</table>\n",
       "</div>"
      ],
      "text/plain": [
       "           고객예탁금   신용잔고   주식형펀드   혼합형펀드    채권형펀드\n",
       "19-08-21  241387  82603  788020  264822  1229515"
      ]
     },
     "execution_count": 6,
     "metadata": {},
     "output_type": "execute_result"
    }
   ],
   "source": [
    "a.get_money_trend_date(type=2)"
   ]
  },
  {
   "cell_type": "code",
   "execution_count": 6,
   "metadata": {},
   "outputs": [],
   "source": [
    "b = mod1.to_sql()"
   ]
  },
  {
   "cell_type": "code",
   "execution_count": 8,
   "metadata": {},
   "outputs": [
    {
     "name": "stdout",
     "output_type": "stream",
     "text": [
      "파일이름을 입력하세요:kpi200.xlsx\n",
      "            Date  kpi200     거래량\n",
      "0     2006-01-03  178.81  158041\n",
      "1     2006-01-04  179.91  188841\n",
      "2     2006-01-05  178.82  206332\n",
      "3     2006-01-06  180.87  206313\n",
      "4     2006-01-09  180.30  191222\n",
      "5     2006-01-10  178.98  182811\n",
      "6     2006-01-11  178.67  210165\n",
      "7     2006-01-12  179.65  174516\n",
      "8     2006-01-13  181.71  164021\n",
      "9     2006-01-16  182.39  161264\n",
      "10    2006-01-17  178.27  179089\n",
      "11    2006-01-18  173.81  214270\n",
      "12    2006-01-19  174.93  158267\n",
      "13    2006-01-20  170.60  196215\n",
      "14    2006-01-23  168.04  194868\n",
      "15    2006-01-24  171.79  202230\n",
      "16    2006-01-25  173.52  193873\n",
      "17    2006-01-26  174.71  146079\n",
      "18    2006-01-27  178.64  151204\n",
      "19    2006-01-31  180.65  133175\n",
      "20    2006-02-01  178.07  156566\n",
      "21    2006-02-02  177.92  148308\n",
      "22    2006-02-03  172.67  153799\n",
      "23    2006-02-06  173.66  143668\n",
      "24    2006-02-07  172.39  123073\n",
      "25    2006-02-08  169.44  140059\n",
      "26    2006-02-09  170.93  124130\n",
      "27    2006-02-10  172.68  126671\n",
      "28    2006-02-13  170.61  114299\n",
      "29    2006-02-14  171.65  102969\n",
      "...          ...     ...     ...\n",
      "3343  2019-07-12  272.68   54810\n",
      "3344  2019-07-15  272.64   82080\n",
      "3345  2019-07-16  274.05  134388\n",
      "3346  2019-07-17  271.48  115622\n",
      "3347  2019-07-18  270.67   78649\n",
      "3348  2019-07-19  274.55   85702\n",
      "3349  2019-07-22  274.55   59881\n",
      "3350  2019-07-23  275.92   93952\n",
      "3351  2019-07-24  273.22   82752\n",
      "3352  2019-07-25  273.04   94460\n",
      "3353  2019-07-26  272.25   88517\n",
      "3354  2019-07-29  267.75   78754\n",
      "3355  2019-07-30  268.95   64529\n",
      "3356  2019-07-31  266.34   96236\n",
      "3357  2019-08-01  265.73   72578\n",
      "3358  2019-08-02  262.99   99663\n",
      "3359  2019-08-05  257.19  131042\n",
      "3360  2019-08-06  253.41  123167\n",
      "3361  2019-08-07  252.00   90744\n",
      "3362  2019-08-08  252.40  163707\n",
      "3363  2019-08-09  254.85  117692\n",
      "3364  2019-08-12  255.35   69377\n",
      "3365  2019-08-13  252.83   76819\n",
      "3366  2019-08-14  254.86   82238\n",
      "3367  2019-08-16  253.90   71830\n",
      "3368  2019-08-19  255.11   66018\n",
      "3369  2019-08-20  258.05   81693\n",
      "3370  2019-08-21  258.38   65481\n",
      "3371  2019-08-22  256.28   67254\n",
      "3372  2019-08-23  256.11   54778\n",
      "\n",
      "[3373 rows x 3 columns]\n"
     ]
    }
   ],
   "source": [
    "b.excel_to_sql(type=2)"
   ]
  },
  {
   "cell_type": "code",
   "execution_count": null,
   "metadata": {},
   "outputs": [],
   "source": []
  },
  {
   "cell_type": "code",
   "execution_count": null,
   "metadata": {},
   "outputs": [],
   "source": []
  }
 ],
 "metadata": {
  "kernelspec": {
   "display_name": "Python 3",
   "language": "python",
   "name": "python3"
  },
  "language_info": {
   "codemirror_mode": {
    "name": "ipython",
    "version": 3
   },
   "file_extension": ".py",
   "mimetype": "text/x-python",
   "name": "python",
   "nbconvert_exporter": "python",
   "pygments_lexer": "ipython3",
   "version": "3.7.3"
  }
 },
 "nbformat": 4,
 "nbformat_minor": 2
}
