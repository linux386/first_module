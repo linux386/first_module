{
 "cells": [
  {
   "cell_type": "code",
   "execution_count": null,
   "metadata": {},
   "outputs": [],
   "source": [
    "    \"kospi = kospi_sector_df.set_index('change')  ##  index롤 분류하기위한 indexing\\n\",\n",
    "    \"kosdaq = kosdaq_sector_df.set_index('change')  ##  index롤 분류하기위한 indexing\\n\",\n",
    "    \"\\n\",\n",
    "    \"for i in [kospi,kosdaq]:\\n\",\n",
    "    \"    cols = i.index.difference(['RISE'])      ## cols는 DateFrame이 아닌 change값이 FALL을 가리키는 객체\\n\",\n",
    "    \"    b = i.loc[cols]\\n\",\n",
    "    \"    b['changeRate']=i.loc[cols]['changeRate'].mul(-1)\\n\",\n",
    "    \"    i.loc[cols]=b        ## a change 값이 FALL인 행을 chageRate값을 -로 바꾼 b로 치환   \\n\",\n",
    "    \"\\n\",\n",
    "    \"kospi_sector = kospi.set_index('date')\\n\",\n",
    "    \"kosdaq_sector = kosdaq.set_index('date')\\n\",\n",
    "    \"kospi_df =  kospi_sector.sort_values([\\\"changeRate\\\"],ascending=True)\\n\",\n",
    "    \"kosdaq_df =  kosdaq_sector.sort_values([\\\"changeRate\\\"],ascending=False)\\n\",\n",
    "    \"print(kosdaq_df)\""
   ]
  }
 ],
 "metadata": {
  "kernelspec": {
   "display_name": "Python 3",
   "language": "python",
   "name": "python3"
  },
  "language_info": {
   "codemirror_mode": {
    "name": "ipython",
    "version": 3
   },
   "file_extension": ".py",
   "mimetype": "text/x-python",
   "name": "python",
   "nbconvert_exporter": "python",
   "pygments_lexer": "ipython3",
   "version": "3.7.6"
  }
 },
 "nbformat": 4,
 "nbformat_minor": 4
}
