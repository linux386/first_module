{
 "cells": [
  {
   "cell_type": "code",
   "execution_count": 1,
   "metadata": {},
   "outputs": [],
   "source": [
    "from pykrx.stock.api import *"
   ]
  },
  {
   "cell_type": "code",
   "execution_count": 2,
   "metadata": {},
   "outputs": [
    {
     "data": {
      "text/plain": [
       "['코스피',\n",
       " '코스피 200',\n",
       " '코스피 100',\n",
       " '코스피 50',\n",
       " '코스피 200 중소형주',\n",
       " '코스피 200 초대형제외 지수',\n",
       " '코스피200제외 코스피지수',\n",
       " '코스피 200 커뮤니케이션서비스',\n",
       " '코스피 200 건설',\n",
       " '코스피 200 중공업',\n",
       " '코스피 200 철강/소재',\n",
       " '코스피 200 에너지/화학',\n",
       " '코스피 200 정보기술',\n",
       " '코스피 200 금융',\n",
       " '코스피 200 생활소비재',\n",
       " '코스피 200 경기소비재',\n",
       " '코스피 200 산업재',\n",
       " '코스피 200 헬스케어',\n",
       " '음식료품',\n",
       " '섬유의복',\n",
       " '종이목재',\n",
       " '화학',\n",
       " '의약품',\n",
       " '비금속광물',\n",
       " '철강금속',\n",
       " '기계',\n",
       " '전기전자',\n",
       " '의료정밀',\n",
       " '운수장비',\n",
       " '유통업',\n",
       " '전기가스업',\n",
       " '건설업',\n",
       " '운수창고업',\n",
       " '통신업',\n",
       " '금융업',\n",
       " '은행',\n",
       " '증권',\n",
       " '보험',\n",
       " '서비스업',\n",
       " '제조업',\n",
       " '코스피 대형주',\n",
       " '코스피 중형주',\n",
       " '코스피 소형주',\n",
       " '코스피 200 비중상한 30%',\n",
       " '코스피 200 비중상한 25%',\n",
       " '코스피 200 비중상한 20%']"
      ]
     },
     "execution_count": 2,
     "metadata": {},
     "output_type": "execute_result"
    }
   ],
   "source": [
    "df = get_index_ticker_list('20200410', market=\"KOSPI\")\n",
    "df"
   ]
  },
  {
   "cell_type": "code",
   "execution_count": null,
   "metadata": {},
   "outputs": [],
   "source": [
    "df = get_market_ohlcv_by_date(\"20190501\", \"20190531\", \"005930\")\n",
    "df"
   ]
  },
  {
   "cell_type": "code",
   "execution_count": null,
   "metadata": {},
   "outputs": [],
   "source": [
    "df = get_market_price_change_by_ticker(\"20190624\", \"20190630\")\n",
    "df"
   ]
  },
  {
   "cell_type": "code",
   "execution_count": null,
   "metadata": {},
   "outputs": [],
   "source": [
    "df = get_market_ohlcv_by_date(\"20180101\", \"20201231\", \"003000\", \"y\")\n",
    "df"
   ]
  },
  {
   "cell_type": "code",
   "execution_count": null,
   "metadata": {},
   "outputs": [],
   "source": [
    "df = get_market_fundamental_by_ticker(\"20200410\")\n",
    "df"
   ]
  },
  {
   "cell_type": "code",
   "execution_count": null,
   "metadata": {},
   "outputs": [],
   "source": [
    "df = get_market_fundamental_by_date(\"20200101\", \"20201231\", \"003000\", \"m\")\n",
    "df"
   ]
  },
  {
   "cell_type": "code",
   "execution_count": null,
   "metadata": {},
   "outputs": [],
   "source": [
    "df = get_market_ticker_name(\"000660\")\n",
    "df"
   ]
  },
  {
   "cell_type": "code",
   "execution_count": null,
   "metadata": {},
   "outputs": [],
   "source": [
    "df = get_market_fundamental_by_date(\"20200101\", \"20200410\", '005930')\n",
    "df"
   ]
  },
  {
   "cell_type": "code",
   "execution_count": null,
   "metadata": {},
   "outputs": [],
   "source": [
    "df = get_market_fundamental_by_date(\"20200101\", \"20200410\", '005930')\n",
    "df"
   ]
  },
  {
   "cell_type": "code",
   "execution_count": null,
   "metadata": {},
   "outputs": [],
   "source": [
    "tickers = get_index_ticker_list(\"20200410\", \"KOSDAQ\")\n",
    "tickers"
   ]
  },
  {
   "cell_type": "code",
   "execution_count": 3,
   "metadata": {},
   "outputs": [
    {
     "data": {
      "text/plain": [
       "['코스피',\n",
       " '코스피 200',\n",
       " '코스피 100',\n",
       " '코스피 50',\n",
       " '코스피 200 중소형주',\n",
       " '코스피 200 초대형제외 지수',\n",
       " '코스피200제외 코스피지수',\n",
       " '코스피 200 커뮤니케이션서비스',\n",
       " '코스피 200 건설',\n",
       " '코스피 200 중공업',\n",
       " '코스피 200 철강/소재',\n",
       " '코스피 200 에너지/화학',\n",
       " '코스피 200 정보기술',\n",
       " '코스피 200 금융',\n",
       " '코스피 200 생활소비재',\n",
       " '코스피 200 경기소비재',\n",
       " '코스피 200 산업재',\n",
       " '코스피 200 헬스케어',\n",
       " '음식료품',\n",
       " '섬유의복',\n",
       " '종이목재',\n",
       " '화학',\n",
       " '의약품',\n",
       " '비금속광물',\n",
       " '철강금속',\n",
       " '기계',\n",
       " '전기전자',\n",
       " '의료정밀',\n",
       " '운수장비',\n",
       " '유통업',\n",
       " '전기가스업',\n",
       " '건설업',\n",
       " '운수창고업',\n",
       " '통신업',\n",
       " '금융업',\n",
       " '은행',\n",
       " '증권',\n",
       " '보험',\n",
       " '서비스업',\n",
       " '제조업',\n",
       " '코스피 대형주',\n",
       " '코스피 중형주',\n",
       " '코스피 소형주',\n",
       " '코스피 200 비중상한 30%',\n",
       " '코스피 200 비중상한 25%',\n",
       " '코스피 200 비중상한 20%']"
      ]
     },
     "execution_count": 3,
     "metadata": {},
     "output_type": "execute_result"
    }
   ],
   "source": [
    "tickers = get_index_ticker_list(\"20200410\", \"KOSPI\")\n",
    "tickers"
   ]
  },
  {
   "cell_type": "code",
   "execution_count": 1,
   "metadata": {},
   "outputs": [
    {
     "data": {
      "text/html": [
       "<div>\n",
       "<style scoped>\n",
       "    .dataframe tbody tr th:only-of-type {\n",
       "        vertical-align: middle;\n",
       "    }\n",
       "\n",
       "    .dataframe tbody tr th {\n",
       "        vertical-align: top;\n",
       "    }\n",
       "\n",
       "    .dataframe thead th {\n",
       "        text-align: right;\n",
       "    }\n",
       "</style>\n",
       "<table border=\"1\" class=\"dataframe\">\n",
       "  <thead>\n",
       "    <tr style=\"text-align: right;\">\n",
       "      <th></th>\n",
       "      <th>시가</th>\n",
       "      <th>고가</th>\n",
       "      <th>저가</th>\n",
       "      <th>종가</th>\n",
       "      <th>거래량</th>\n",
       "    </tr>\n",
       "    <tr>\n",
       "      <th>날짜</th>\n",
       "      <th></th>\n",
       "      <th></th>\n",
       "      <th></th>\n",
       "      <th></th>\n",
       "      <th></th>\n",
       "    </tr>\n",
       "  </thead>\n",
       "  <tbody>\n",
       "    <tr>\n",
       "      <th>2020-06-12</th>\n",
       "      <td>2088.24</td>\n",
       "      <td>2137.12</td>\n",
       "      <td>2084.63</td>\n",
       "      <td>2132.30</td>\n",
       "      <td>689897000</td>\n",
       "    </tr>\n",
       "    <tr>\n",
       "      <th>2020-06-15</th>\n",
       "      <td>2114.41</td>\n",
       "      <td>2129.67</td>\n",
       "      <td>2030.82</td>\n",
       "      <td>2030.82</td>\n",
       "      <td>1072278000</td>\n",
       "    </tr>\n",
       "    <tr>\n",
       "      <th>2020-06-16</th>\n",
       "      <td>2091.09</td>\n",
       "      <td>2138.08</td>\n",
       "      <td>2079.02</td>\n",
       "      <td>2138.05</td>\n",
       "      <td>973639000</td>\n",
       "    </tr>\n",
       "  </tbody>\n",
       "</table>\n",
       "</div>"
      ],
      "text/plain": [
       "                 시가       고가       저가       종가         거래량\n",
       "날짜                                                        \n",
       "2020-06-12  2088.24  2137.12  2084.63  2132.30   689897000\n",
       "2020-06-15  2114.41  2129.67  2030.82  2030.82  1072278000\n",
       "2020-06-16  2091.09  2138.08  2079.02  2138.05   973639000"
      ]
     },
     "execution_count": 1,
     "metadata": {},
     "output_type": "execute_result"
    }
   ],
   "source": [
    "from mod1 import *\n",
    "df_kospi = get_index_ohlcv_by_date(\"20200612\", \"20250517\", \"코스피\")\n",
    "df_kospi"
   ]
  },
  {
   "cell_type": "code",
   "execution_count": null,
   "metadata": {},
   "outputs": [],
   "source": [
    "df = get_index_ohlcv_by_date(\"20190101\", \"20200528\", \"코스피\", freq='m')\n",
    "df"
   ]
  },
  {
   "cell_type": "code",
   "execution_count": null,
   "metadata": {},
   "outputs": [],
   "source": [
    "df = get_index_ohlcv_by_date(\"20190101\", \"20200528\", \"코스닥\", freq='m')\n",
    "df"
   ]
  },
  {
   "cell_type": "code",
   "execution_count": null,
   "metadata": {},
   "outputs": [],
   "source": [
    "#df = get_index_ohlcv_by_date(\"20180101\", \"20180630\", \"코스피\", \"m\")\n",
    "df = get_index_ohlcv_by_date(\"20190101\", \"20190228\", \"코스닥\",'m')\n",
    "df"
   ]
  },
  {
   "cell_type": "code",
   "execution_count": null,
   "metadata": {},
   "outputs": [],
   "source": [
    "df = get_index_portfolio_deposit_file(\"20190412\", \"코스피 소형주\")\n",
    "df"
   ]
  },
  {
   "cell_type": "code",
   "execution_count": null,
   "metadata": {},
   "outputs": [],
   "source": [
    "df = krx.IndexTicker().get_id(\"코스피\")\n",
    "df"
   ]
  },
  {
   "cell_type": "code",
   "execution_count": null,
   "metadata": {},
   "outputs": [],
   "source": [
    "df = get_index_portfolio_deposit_file(\"20200410\", \"코스피\")\n",
    "df"
   ]
  },
  {
   "cell_type": "code",
   "execution_count": null,
   "metadata": {},
   "outputs": [],
   "source": [
    "df = get_shorting_investor_volume_by_date(\"20190401\", \"20190405\", \"KOSPI\")\n",
    "df"
   ]
  },
  {
   "cell_type": "code",
   "execution_count": null,
   "metadata": {},
   "outputs": [],
   "source": [
    "df = get_shorting_investor_price_by_date(\"20190401\", \"20190405\", \"KOSPI\")\n",
    "df"
   ]
  },
  {
   "cell_type": "code",
   "execution_count": null,
   "metadata": {},
   "outputs": [],
   "source": [
    "df = get_shorting_volume_top50(\"20190401\", \"KOSPI\")\n",
    "df"
   ]
  },
  {
   "cell_type": "code",
   "execution_count": null,
   "metadata": {},
   "outputs": [],
   "source": [
    "df = get_shorting_balance_by_ticker(\"20190401\", \"20190405\", \"005930\")\n",
    "df"
   ]
  },
  {
   "cell_type": "code",
   "execution_count": null,
   "metadata": {},
   "outputs": [],
   "source": [
    "df = get_shorting_balance_top50(\"20190401\", \"KOSDAQ\")\n",
    "df"
   ]
  },
  {
   "cell_type": "code",
   "execution_count": null,
   "metadata": {},
   "outputs": [],
   "source": [
    "df = get_etf_ticker_list()\n",
    "df"
   ]
  },
  {
   "cell_type": "code",
   "execution_count": null,
   "metadata": {},
   "outputs": [],
   "source": []
  },
  {
   "cell_type": "code",
   "execution_count": 4,
   "metadata": {},
   "outputs": [],
   "source": [
    "from pykrx import stock,website\n"
   ]
  },
  {
   "cell_type": "code",
   "execution_count": 5,
   "metadata": {},
   "outputs": [],
   "source": [
    "a  = website.krx.SRT02010100()# 02010100  개별종목 공매도 종합 현황 http://short.krx.co.kr/contents/SRT/02/02010100/SRT02010100.jsp"
   ]
  },
  {
   "cell_type": "code",
   "execution_count": null,
   "metadata": {},
   "outputs": [],
   "source": [
    "a.read('20190101','20191227','KR7215790007')#02010100  개별종목 공매도 종합 현황"
   ]
  },
  {
   "cell_type": "code",
   "execution_count": null,
   "metadata": {},
   "outputs": [],
   "source": [
    "a  = website.krx.SRT02020100() #02020100 공매도 거래 현황 market: 1 (코스피) / 3 (코스닥) / 4 (코넥스)http://short.krx.co.kr/contents/SRT/02/02020100/SRT02020100.jsp"
   ]
  },
  {
   "cell_type": "code",
   "execution_count": null,
   "metadata": {},
   "outputs": [],
   "source": [
    "a.read('20190101','20191227',1) #02020100 공매도 거래 현황market: 1 (코스피) / 3 (코스닥) / 4 (코넥스) http://short.krx.co.kr/contents/SRT/02/02020100/SRT02020100.jsp"
   ]
  },
  {
   "cell_type": "code",
   "execution_count": 6,
   "metadata": {},
   "outputs": [],
   "source": [
    "a = website.krx.market.ticker._StockFinder() # 상장종목 검색 http://marketdata.krx.co.kr/mdi#document=040204"
   ]
  },
  {
   "cell_type": "code",
   "execution_count": null,
   "metadata": {},
   "outputs": [],
   "source": [
    "a.read('STK')"
   ]
  },
  {
   "cell_type": "code",
   "execution_count": 8,
   "metadata": {},
   "outputs": [
    {
     "data": {
      "text/plain": [
       "NotImplementedError('KSQ')"
      ]
     },
     "execution_count": 8,
     "metadata": {},
     "output_type": "execute_result"
    }
   ],
   "source": [
    "a.read('KSQ')"
   ]
  },
  {
   "cell_type": "code",
   "execution_count": 7,
   "metadata": {},
   "outputs": [
    {
     "data": {
      "text/plain": [
       "NotImplementedError('ALL')"
      ]
     },
     "execution_count": 7,
     "metadata": {},
     "output_type": "execute_result"
    }
   ],
   "source": [
    "a.read('ALL')"
   ]
  },
  {
   "cell_type": "code",
   "execution_count": null,
   "metadata": {},
   "outputs": [],
   "source": [
    "a = website.krx.market.ticker._DelistingFinder() # 상장폐지종목 검색"
   ]
  },
  {
   "cell_type": "code",
   "execution_count": null,
   "metadata": {},
   "outputs": [],
   "source": [
    "a.read('ALL')"
   ]
  },
  {
   "cell_type": "code",
   "execution_count": null,
   "metadata": {},
   "outputs": [],
   "source": [
    "a = website.krx.market.ticker._StockTicker()## 조회일 기준의 상장/상폐 종목 리스트 market: 전체/코스피/코스닥/코넥스 - 입력하지 않을 경우 전체"
   ]
  },
  {
   "cell_type": "code",
   "execution_count": 9,
   "metadata": {},
   "outputs": [
    {
     "ename": "AttributeError",
     "evalue": "'_StockFinder' object has no attribute '_get_stock_info_listed'",
     "output_type": "error",
     "traceback": [
      "\u001b[1;31m---------------------------------------------------------------------------\u001b[0m",
      "\u001b[1;31mAttributeError\u001b[0m                            Traceback (most recent call last)",
      "\u001b[1;32m<ipython-input-9-ef6c6b18549b>\u001b[0m in \u001b[0;36m<module>\u001b[1;34m\u001b[0m\n\u001b[1;32m----> 1\u001b[1;33m \u001b[0ma\u001b[0m\u001b[1;33m.\u001b[0m\u001b[0m_get_stock_info_listed\u001b[0m\u001b[1;33m(\u001b[0m\u001b[0mmarket\u001b[0m\u001b[1;33m=\u001b[0m\u001b[1;34m'전체'\u001b[0m\u001b[1;33m)\u001b[0m\u001b[1;33m\u001b[0m\u001b[1;33m\u001b[0m\u001b[0m\n\u001b[0m",
      "\u001b[1;31mAttributeError\u001b[0m: '_StockFinder' object has no attribute '_get_stock_info_listed'"
     ]
    }
   ],
   "source": [
    "a._get_stock_info_listed(market='전체')"
   ]
  },
  {
   "cell_type": "code",
   "execution_count": null,
   "metadata": {},
   "outputs": [],
   "source": [
    "a = website.naver.core.Sise()"
   ]
  },
  {
   "cell_type": "code",
   "execution_count": null,
   "metadata": {},
   "outputs": [],
   "source": [
    "a.read('006800',10,'week')"
   ]
  },
  {
   "cell_type": "code",
   "execution_count": null,
   "metadata": {},
   "outputs": [],
   "source": [
    "stock.api.get_market_ticker_list()"
   ]
  },
  {
   "cell_type": "code",
   "execution_count": null,
   "metadata": {},
   "outputs": [],
   "source": [
    "stock.api.get_index_ticker_list('20191227', market=\"KOSPI\")"
   ]
  },
  {
   "cell_type": "code",
   "execution_count": null,
   "metadata": {},
   "outputs": [],
   "source": [
    "stock.api.get_index_kosdaq_ohlcv_by_date(\"20200101\", \"20200410\",'코스닥 150')"
   ]
  },
  {
   "cell_type": "code",
   "execution_count": null,
   "metadata": {},
   "outputs": [],
   "source": [
    "df = stock.api.get_index_ohlcv_by_date(\"20190101\", \"20190228\", \"코스피 200\")\n",
    "print(df.head(2))"
   ]
  },
  {
   "cell_type": "code",
   "execution_count": null,
   "metadata": {},
   "outputs": [],
   "source": [
    "from pykrx import stock"
   ]
  },
  {
   "cell_type": "code",
   "execution_count": null,
   "metadata": {},
   "outputs": [],
   "source": [
    "stock.api.get_index_kosdaq_ohlcv_by_date(\"20190101\", \"20190228\", \"코스닥 150\")"
   ]
  },
  {
   "cell_type": "code",
   "execution_count": null,
   "metadata": {},
   "outputs": [],
   "source": [
    "stock.api.get_market_fundamental_by_ticker(\"20191227\")"
   ]
  },
  {
   "cell_type": "code",
   "execution_count": null,
   "metadata": {},
   "outputs": [],
   "source": [
    "stock.api.get_market_ticker_name(\"000660\")"
   ]
  },
  {
   "cell_type": "code",
   "execution_count": null,
   "metadata": {},
   "outputs": [],
   "source": [
    "stock.api.get_shorting_status_by_date(\"20181210\", \"20181212\", \"005930\")"
   ]
  },
  {
   "cell_type": "code",
   "execution_count": null,
   "metadata": {},
   "outputs": [],
   "source": [
    "stock.api.get_index_kospi_ohlcv_by_date(\"20190101\",\"20190228\",\"코스피\")"
   ]
  },
  {
   "cell_type": "code",
   "execution_count": null,
   "metadata": {},
   "outputs": [],
   "source": [
    "stock.api.get_index_portfolio_deposit_file(\"20190412\", \"코스피 소형주\")"
   ]
  },
  {
   "cell_type": "code",
   "execution_count": null,
   "metadata": {},
   "outputs": [],
   "source": [
    "stock.api.get_shorting_investor_volume_by_date(\"20190401\", \"20190405\", \"KOSPI\")"
   ]
  },
  {
   "cell_type": "code",
   "execution_count": null,
   "metadata": {},
   "outputs": [],
   "source": [
    "stock.api.get_shorting_volume_top50(\"20191227\", \"KOSPI\") # 공매도거래비중"
   ]
  },
  {
   "cell_type": "code",
   "execution_count": null,
   "metadata": {},
   "outputs": [],
   "source": [
    "stock.api.get_shorting_balance_top50(\"20191224\", \"KOSDAQ\") # 공매도잔고수량"
   ]
  },
  {
   "cell_type": "code",
   "execution_count": null,
   "metadata": {},
   "outputs": [],
   "source": []
  }
 ],
 "metadata": {
  "kernelspec": {
   "display_name": "Python 3",
   "language": "python",
   "name": "python3"
  },
  "language_info": {
   "codemirror_mode": {
    "name": "ipython",
    "version": 3
   },
   "file_extension": ".py",
   "mimetype": "text/x-python",
   "name": "python",
   "nbconvert_exporter": "python",
   "pygments_lexer": "ipython3",
   "version": "3.6.10"
  }
 },
 "nbformat": 4,
 "nbformat_minor": 2
}
