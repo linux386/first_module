{
 "cells": [
  {
   "cell_type": "markdown",
   "metadata": {},
   "source": [
    "# 네이버 로그인 (현재 안됨)"
   ]
  },
  {
   "cell_type": "code",
   "execution_count": 27,
   "metadata": {},
   "outputs": [],
   "source": [
    "from selenium import webdriver\n",
    "\n",
    "path  = \"c:\\\\Users\\\\kkang\\\\notebook\\\\git\\\\chromedriver.exe\"\n",
    "driver = webdriver.Chrome(path)\n",
    "driver.implicitly_wait(3)\n",
    "driver.get('https://nid.naver.com/nidlogin.login')\n",
    "driver.find_element_by_name('id').send_keys('linux386')\n",
    "driver.find_element_by_name('pw').send_keys('jump586**')\n",
    "# 로그인 버튼을 눌러주자.\n",
    "driver.find_element_by_xpath('//*[@id=\"frmNIDLogin\"]/fieldset/input').click()"
   ]
  },
  {
   "cell_type": "markdown",
   "metadata": {},
   "source": [
    "# krx 프로그램거래 엑셀 download"
   ]
  },
  {
   "cell_type": "code",
   "execution_count": 36,
   "metadata": {},
   "outputs": [],
   "source": [
    "from selenium import webdriver\n",
    "import time\n",
    "\n",
    "path  = \"c:\\\\Users\\\\kkang\\\\notebook\\\\git\\\\chromedriver.exe\"\n",
    "\n",
    "driver = webdriver.Chrome(path)\n",
    "driver.get('https://marketdata.krx.co.kr/mdi#document=13020306')\n",
    "driver.implicitly_wait(3)\n",
    "#driver.find_element_by_xpath('//*[@id=\"formc81e728d9d4c2f636f067f89cc14862c\"]/dl[3]/dd/div/button[4]').click()#6개월\n",
    "driver.find_element_by_xpath('//*[@id=\"formc81e728d9d4c2f636f067f89cc14862c\"]/dl[3]/dd/div/button[5]').click()#12개월\n",
    "#driver.find_element_by_xpath('//*[@id=\"btnidc81e728d9d4c2f636f067f89cc14862c\"]').click() # 조회버튼 (화면상에서만 영향있음)\n",
    "driver.find_element_by_xpath('//*[@id=\"8f14e45fceea167a5a36dedd4bea2543\"]/button[2]').click() # 엑셀화일 dowmload\n",
    "time.sleep(3)\n",
    "driver.close()"
   ]
  },
  {
   "cell_type": "code",
   "execution_count": 1,
   "metadata": {},
   "outputs": [],
   "source": [
    "from selenium import webdriver\n",
    "import time\n",
    "\n",
    "path  = \"c:\\\\Users\\\\kkang\\\\notebook\\\\git\\\\chromedriver.exe\"\n",
    "\n",
    "driver = webdriver.Chrome(path)\n",
    "driver.get('https://marketdata.krx.co.kr/mdi#document=13020306')\n",
    "driver.implicitly_wait(3)\n",
    "\n",
    "driver.find_element_by_xpath('//*[@id=\"formc81e728d9d4c2f636f067f89cc14862c\"]/dl[3]/dd/div/button[4]').click()#6개월\n",
    "driver.find_element_by_xpath('//*[@id=\"8f14e45fceea167a5a36dedd4bea2543\"]/button[2]').click() # 엑셀화일 dowmload\n",
    "\n",
    "driver.find_element_by_xpath('//*[@id=\"formc81e728d9d4c2f636f067f89cc14862c\"]/dl[3]/dd/div/button[5]').click()#12개월\n",
    "driver.find_element_by_xpath('//*[@id=\"8f14e45fceea167a5a36dedd4bea2543\"]/button[2]').click() # 엑셀화일 dowmload\n",
    "\n",
    "time.sleep(3)\n",
    "driver.close()"
   ]
  },
  {
   "cell_type": "code",
   "execution_count": null,
   "metadata": {},
   "outputs": [],
   "source": []
  }
 ],
 "metadata": {
  "kernelspec": {
   "display_name": "Python 3",
   "language": "python",
   "name": "python3"
  },
  "language_info": {
   "codemirror_mode": {
    "name": "ipython",
    "version": 3
   },
   "file_extension": ".py",
   "mimetype": "text/x-python",
   "name": "python",
   "nbconvert_exporter": "python",
   "pygments_lexer": "ipython3",
   "version": "3.7.3"
  }
 },
 "nbformat": 4,
 "nbformat_minor": 2
}
